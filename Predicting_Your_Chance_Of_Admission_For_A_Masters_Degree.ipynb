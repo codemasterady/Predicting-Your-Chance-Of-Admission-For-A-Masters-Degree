{
  "nbformat": 4,
  "nbformat_minor": 0,
  "metadata": {
    "colab": {
      "name": "Predicting Your Chance Of Admission For A Masters Degree.ipynb",
      "provenance": []
    },
    "kernelspec": {
      "name": "python3",
      "display_name": "Python 3"
    }
  },
  "cells": [
    {
      "cell_type": "markdown",
      "metadata": {
        "id": "vRChx1cVLptk"
      },
      "source": [
        "\n",
        "# (1) Introduction\n",
        "This project deals with the notion of using artificial neural networks in order to predict the chances of a person getting into the master's degree of a university, based on some critical factors such as the test scores and if that person had any research experience. More information on the dataset will be included below. This project is a failure of a project not because of the weak neural network but also because of the lack of data. This dataset, [extracted](https://www.kaggle.com/mohansacharya/graduate-admissions?select=Admission_Predict_Ver1.1.csv) from Kaggle, contains 5000 people and their scores. No scaling of the data was required. Below is some information of the paramaters.\n",
        "\n",
        "\n",
        "---\n",
        "\n",
        "Independent Values:\n",
        "\n",
        "| Feature Name      | Description |\n",
        "| ----------- | ----------- |\n",
        "|    GRE Score   | Grade Record Examination Score (out of 340)       |\n",
        "| TOEFL   | Test of English as a Foreign Language (out of 120)        |\n",
        "|    University Rating   | The rating of the university (out of 5)      |\n",
        "|    Statement Of Purpose Strength   | Determines the statement of purpose strength (0-5)       |\n",
        "|    Letter Of Recommendation Strength   | The strength of the LOA (0-5)       |\n",
        "|    Undergraduate GPA   | The grade per average of the undergrad (out of 10)      |\n",
        "|    Research experience   | Does the personhave research experience??? (1- yes, 0-no)       |\n",
        "\n",
        "\n",
        "---\n",
        "\n",
        "Dependent Value:\n",
        "\n",
        "| Feature Name      | Description |\n",
        "| ----------- | ----------- |\n",
        "|    Chance Of Admit   | The chances in percentage the person applying is admitted.       |\n"
      ]
    },
    {
      "cell_type": "markdown",
      "metadata": {
        "id": "pD-CozbSTIYA"
      },
      "source": [
        "# (2) Importing the libraries\n",
        "\n",
        "Below mentioned are the necessary libraries required to carry on the task."
      ]
    },
    {
      "cell_type": "code",
      "metadata": {
        "id": "kV6Q3YZ2TSO1"
      },
      "source": [
        "import numpy as np\n",
        "import pandas as pd\n",
        "import matplotlib.pyplot as plt\n",
        "from sklearn.preprocessing import StandardScaler\n",
        "from sklearn.model_selection import train_test_split\n",
        "from keras.models import Sequential\n",
        "from keras.layers import Dense\n",
        "from keras.layers import Dropout"
      ],
      "execution_count": 1,
      "outputs": []
    },
    {
      "cell_type": "markdown",
      "metadata": {
        "id": "quaV00w8Tu2z"
      },
      "source": [
        "# (3) Data Preprocessing\n",
        "Data is extracted from the CSV file \"Admission_Predict_Ver1.1.csv\" using the pandas library. A Scaler is applied as usual as we are applying the artificial neural network on a set of numbered values. Heavy scaling is not necessary due to the fact that all the values in the dataset were already numbers. For more info on artificial neural networks, check out my GitHub post [here](https://github.com/codemasterady/Phone-Price-Predictor/blob/main/About_The_Model.ipynb)."
      ]
    },
    {
      "cell_type": "code",
      "metadata": {
        "id": "ucJOf0oyVCOM"
      },
      "source": [
        "# Data Preprocessing\n",
        "data_set = pd.read_csv(\n",
        "    r'Admission_Predict_Ver1.1.csv')\n",
        "independent_variables = data_set.iloc[:, 1:8].values\n",
        "dependent_variable = data_set.iloc[:, -1].values\n",
        "# Scaling the data\n",
        "scaler = StandardScaler()\n",
        "scaled_independent_variables = scaler.fit_transform(\n",
        "    independent_variables)"
      ],
      "execution_count": 2,
      "outputs": []
    },
    {
      "cell_type": "markdown",
      "metadata": {
        "id": "HBHEvTdfVQiq"
      },
      "source": [
        "# (4) Defining the model\n",
        "After experimentation of multiple possible combinations of models, I have found out this to be more accurate of the bunch."
      ]
    },
    {
      "cell_type": "markdown",
      "metadata": {
        "id": "WFlAt2OyYO9r"
      },
      "source": [
        "## (4)(a)Explanation\n",
        "This model contains **1** input layer, **5** hidden layers, **1** output layer and **2** dropout units which makes a grand total of 7 layers. This model uses the standard ReLU activation function for the input and hidden layers and a sigmoid layer for the final output layer as this problem is a **regression** problem. The Stochastic gradient descent method was used to calculate the minimum cost for the model and the **mean-squared-error** or the mse, as stated in the code, was the metric used to calculate the cost. For those not familiar with the mse cost metric, the mean squared error is the mean of the sum of the difference in the predicted value and the actual value squared. Click [here](https://towardsdatascience.com/machine-learning-fundamentals-via-linear-regression-41a5d11f5220) for more on cost functions. Different values of the epochs and batch size were tested until the lowest value for the mse was reached. Droupout was implemented as I had noticed that the prediction was highly dependent on some paramaters.\n"
      ]
    },
    {
      "cell_type": "code",
      "metadata": {
        "colab": {
          "base_uri": "https://localhost:8080/"
        },
        "id": "2HPl9O44Xq-9",
        "outputId": "2ff3011c-6968-4145-a20d-e98b608103e7"
      },
      "source": [
        "X, y = scaled_independent_variables, dependent_variable\n",
        "# Defining the neural network\n",
        "nn = Sequential()\n",
        "nn.add(Dense(units=200, activation='relu'))\n",
        "nn.add(Dense(units=100, activation='relu'))\n",
        "nn.add(Dropout(rate=0.3))\n",
        "nn.add(Dense(units=50, activation='relu'))\n",
        "nn.add(Dense(units=25, activation='relu'))\n",
        "nn.add(Dense(units=12, activation='relu'))\n",
        "nn.add(Dense(units=6, activation='relu'))\n",
        "nn.add(Dropout(rate=0.6))\n",
        "nn.add(Dense(units=1, activation='sigmoid'))\n",
        "nn.compile(optimizer='adam', loss='mse')\n",
        "nn.fit(X, y, batch_size=60, epochs=40)"
      ],
      "execution_count": 3,
      "outputs": [
        {
          "output_type": "stream",
          "text": [
            "Epoch 1/40\n",
            "9/9 [==============================] - 0s 3ms/step - loss: 0.0651\n",
            "Epoch 2/40\n",
            "9/9 [==============================] - 0s 3ms/step - loss: 0.0543\n",
            "Epoch 3/40\n",
            "9/9 [==============================] - 0s 2ms/step - loss: 0.0398\n",
            "Epoch 4/40\n",
            "9/9 [==============================] - 0s 2ms/step - loss: 0.0280\n",
            "Epoch 5/40\n",
            "9/9 [==============================] - 0s 2ms/step - loss: 0.0258\n",
            "Epoch 6/40\n",
            "9/9 [==============================] - 0s 2ms/step - loss: 0.0307\n",
            "Epoch 7/40\n",
            "9/9 [==============================] - 0s 2ms/step - loss: 0.0285\n",
            "Epoch 8/40\n",
            "9/9 [==============================] - 0s 3ms/step - loss: 0.0302\n",
            "Epoch 9/40\n",
            "9/9 [==============================] - 0s 3ms/step - loss: 0.0273\n",
            "Epoch 10/40\n",
            "9/9 [==============================] - 0s 3ms/step - loss: 0.0242\n",
            "Epoch 11/40\n",
            "9/9 [==============================] - 0s 3ms/step - loss: 0.0251\n",
            "Epoch 12/40\n",
            "9/9 [==============================] - 0s 3ms/step - loss: 0.0248\n",
            "Epoch 13/40\n",
            "9/9 [==============================] - 0s 3ms/step - loss: 0.0254\n",
            "Epoch 14/40\n",
            "9/9 [==============================] - 0s 3ms/step - loss: 0.0233\n",
            "Epoch 15/40\n",
            "9/9 [==============================] - 0s 2ms/step - loss: 0.0241\n",
            "Epoch 16/40\n",
            "9/9 [==============================] - 0s 2ms/step - loss: 0.0240\n",
            "Epoch 17/40\n",
            "9/9 [==============================] - 0s 2ms/step - loss: 0.0243\n",
            "Epoch 18/40\n",
            "9/9 [==============================] - 0s 2ms/step - loss: 0.0258\n",
            "Epoch 19/40\n",
            "9/9 [==============================] - 0s 3ms/step - loss: 0.0222\n",
            "Epoch 20/40\n",
            "9/9 [==============================] - 0s 3ms/step - loss: 0.0273\n",
            "Epoch 21/40\n",
            "9/9 [==============================] - 0s 3ms/step - loss: 0.0272\n",
            "Epoch 22/40\n",
            "9/9 [==============================] - 0s 3ms/step - loss: 0.0227\n",
            "Epoch 23/40\n",
            "9/9 [==============================] - 0s 2ms/step - loss: 0.0182\n",
            "Epoch 24/40\n",
            "9/9 [==============================] - 0s 3ms/step - loss: 0.0220\n",
            "Epoch 25/40\n",
            "9/9 [==============================] - 0s 3ms/step - loss: 0.0198\n",
            "Epoch 26/40\n",
            "9/9 [==============================] - 0s 2ms/step - loss: 0.0234\n",
            "Epoch 27/40\n",
            "9/9 [==============================] - 0s 2ms/step - loss: 0.0241\n",
            "Epoch 28/40\n",
            "9/9 [==============================] - 0s 3ms/step - loss: 0.0192\n",
            "Epoch 29/40\n",
            "9/9 [==============================] - 0s 3ms/step - loss: 0.0195\n",
            "Epoch 30/40\n",
            "9/9 [==============================] - 0s 2ms/step - loss: 0.0198\n",
            "Epoch 31/40\n",
            "9/9 [==============================] - 0s 2ms/step - loss: 0.0179\n",
            "Epoch 32/40\n",
            "9/9 [==============================] - 0s 2ms/step - loss: 0.0190\n",
            "Epoch 33/40\n",
            "9/9 [==============================] - 0s 3ms/step - loss: 0.0183\n",
            "Epoch 34/40\n",
            "9/9 [==============================] - 0s 2ms/step - loss: 0.0203\n",
            "Epoch 35/40\n",
            "9/9 [==============================] - 0s 3ms/step - loss: 0.0207\n",
            "Epoch 36/40\n",
            "9/9 [==============================] - 0s 3ms/step - loss: 0.0176\n",
            "Epoch 37/40\n",
            "9/9 [==============================] - 0s 3ms/step - loss: 0.0181\n",
            "Epoch 38/40\n",
            "9/9 [==============================] - 0s 3ms/step - loss: 0.0214\n",
            "Epoch 39/40\n",
            "9/9 [==============================] - 0s 3ms/step - loss: 0.0197\n",
            "Epoch 40/40\n",
            "9/9 [==============================] - 0s 3ms/step - loss: 0.0193\n"
          ],
          "name": "stdout"
        },
        {
          "output_type": "execute_result",
          "data": {
            "text/plain": [
              "<tensorflow.python.keras.callbacks.History at 0x7f59020d3518>"
            ]
          },
          "metadata": {
            "tags": []
          },
          "execution_count": 3
        }
      ]
    },
    {
      "cell_type": "markdown",
      "metadata": {
        "id": "x5nb55DIbu2J"
      },
      "source": [
        "## (4)(b) Trials\n",
        "Below is all the trials and the sample models I have experimented the model through.\n",
        "\n",
        "\n",
        "```\n",
        "\"\"\"\n",
        "                            Testing All The Possible Outcomes (Performance Report)\n",
        "#! Initial Model\n",
        "====================================================================================================================\n",
        "X, y = self.__preprocess()\n",
        "# Defining the neural network\n",
        "self.nn.add(Dense(units=100, activation='relu'))\n",
        "self.nn.add(Dense(units=50, activation='relu'))\n",
        "self.nn.add(Dense(units=25, activation='relu'))\n",
        "self.nn.add(Dense(units=12, activation='relu'))\n",
        "self.nn.add(Dense(units=1, activation='sigmoid'))\n",
        "self.nn.compile(optimizer='adam', loss='mse')\n",
        "self.nn.fit(X, y, batch_size=50, epochs=40)\n",
        "====================================================================================================================\n",
        "#! Test A (Best Case)\n",
        "input_arr = [340, 120, 5, 5, 5,  10, 1]\n",
        "obj.mainTrain()\n",
        "print(\n",
        "    f\"Best Case Scenario Has A Probability Of {str(obj.predictChances(input_arr))}\")\n",
        "#! Returned 1.0 (PASSED)\n",
        "--------------------------------------------------------------------------------------------------------------------\n",
        "#! Test B (Worst Case) (With Research)\n",
        "input_arr = [0, 0, 5, 0, 0,  1, 0]\n",
        "obj.mainTrain()\n",
        "print(\n",
        "    f\"Worst Case Scenario Has A Probability Of {str(obj.predictChances(input_arr))}\")\n",
        "#! Returned 0.87353826 (FAILED)\n",
        "--------------------------------------------------------------------------------------------------------------------\n",
        "#! Test C (Average Case)\n",
        "input_arr = [270, 60, 3, 3, 3,  1, 0]\n",
        "obj.mainTrain()\n",
        "print(\n",
        "    f\"Average Case Scenario Has A Probability Of {str(obj.predictChances(input_arr))}\")\n",
        "#! Returned 1.0 (Unknown)\n",
        "--------------------------------------------------------------------------------------------------------------------\n",
        "#! Test D (Average Case) (No Research)\n",
        "input_arr = [270, 60, 3, 3, 3,  0, 0]\n",
        "obj.mainTrain()\n",
        "print(\n",
        "    f\"Average Case Scenario Has A Probability Of {str(obj.predictChances(input_arr))}\")\n",
        "#! Returned 1.0\n",
        "--------------------------------------------------------------------------------------------------------------------\n",
        "#! Test E (Worst Case)\n",
        "input_arr = [0, 0, 5, 0, 0,  0, 0]\n",
        "obj.mainTrain()\n",
        "print(\n",
        "    f\"Average Case Scenario Has A Probability Of {str(obj.predictChances(input_arr))}\")\n",
        "#! Returned 0.8089772\n",
        "--------------------------------------------------------------------------------------------------------------------\n",
        "#! Test F (Worst Case) (With Bad University)\n",
        "input_arr = [0, 0, 1, 0, 0,  0, 0]\n",
        "obj.mainTrain()\n",
        "print(\n",
        "    f\"Average Case Scenario Has A Probability Of {str(obj.predictChances(input_arr))}\")\n",
        "#! Returned 0.6375988\n",
        "--------------------------------------------------------------------------------------------------------------------\n",
        "#! Test G (Worst Case) (With Bad University) (With research)\n",
        "input_arr = [0, 0, 1, 0, 0,  1, 0]\n",
        "obj.mainTrain()\n",
        "print(\n",
        "    f\"Average Case Scenario Has A Probability Of {str(obj.predictChances(input_arr))}\")\n",
        "#! Returned 0.74066675\n",
        "--------------------------------------------------------------------------------------------------------------------\n",
        "#! Test H (Average Case) (With Bad University)\n",
        "input_arr = [270, 60, 1, 3, 3,  0, 0]\n",
        "obj.mainTrain()\n",
        "print(\n",
        "    f\"Average Case Scenario Has A Probability Of {str(obj.predictChances(input_arr))}\")\n",
        "#! Returned 1.\n",
        "XXXXXXXXXXXXXXXXXXXXXXXXXXXXXXXXXXXXXXXXXXXXXXXXXXXXXXXXXXXXXXXXXXXXXXXXXXXXXXXXXXXXXXXXXXXXXXXXXXXXXXXXXXXXXXXXXXXX\n",
        "\n",
        "#! Model B\n",
        "====================================================================================================================\n",
        "nn = Sequential()\n",
        "nn.add(Dense(units=200, activation='relu'))\n",
        "nn.add(Dense(units=100, activation='relu'))\n",
        "nn.add(Dense(units=50, activation='relu'))\n",
        "nn.add(Dropout(rate=0.3))\n",
        "nn.add(Dense(units=25, activation='relu'))\n",
        "nn.add(Dense(units=12, activation='relu'))\n",
        "nn.add(Dense(units=6, activation='relu'))\n",
        "nn.add(Dropout(rate=0.6))\n",
        "nn.add(Dense(units=1, activation='sigmoid'))\n",
        "nn.compile(optimizer='adam', loss='mse')\n",
        "====================================================================================================================\n",
        "#! Test A (Best Case)\n",
        "input_arr = [340, 120, 5, 5, 5,  10, 1]\n",
        "obj.mainTrain()\n",
        "print(\n",
        "    f\"Best Case Scenario Has A Probability Of {str(obj.predictChances(input_arr))}\")\n",
        "#! Returned 1.0 (PASSED)\n",
        "--------------------------------------------------------------------------------------------------------------------\n",
        "#! Test B (Worst Case) (With Research)\n",
        "input_arr = [0, 0, 5, 0, 0,  1, 0]\n",
        "obj.mainTrain()\n",
        "print(\n",
        "    f\"Worst Case Scenario Has A Probability Of {str(obj.predictChances(input_arr))}\")\n",
        "#! Returned 0.73658943 (Improvement)\n",
        "--------------------------------------------------------------------------------------------------------------------\n",
        "#! Test C (Average Case)\n",
        "input_arr = [270, 60, 3, 3, 3,  1, 0]\n",
        "obj.mainTrain()\n",
        "print(\n",
        "    f\"Average Case Scenario Has A Probability Of {str(obj.predictChances(input_arr))}\")\n",
        "#! Returned 1.0 (Unknown)\n",
        "--------------------------------------------------------------------------------------------------------------------\n",
        "#! Test D (Average Case) (No Research)\n",
        "input_arr = [270, 60, 3, 3, 3,  0, 0]\n",
        "obj.mainTrain()\n",
        "print(\n",
        "    f\"Average Case Scenario Has A Probability Of {str(obj.predictChances(input_arr))}\")\n",
        "#! Returned 1.0\n",
        "--------------------------------------------------------------------------------------------------------------------\n",
        "#! Test E (Worst Case)\n",
        "input_arr = [0, 0, 5, 0, 0,  0, 0]\n",
        "obj.mainTrain()\n",
        "print(\n",
        "    f\"Average Case Scenario Has A Probability Of {str(obj.predictChances(input_arr))}\")\n",
        "#! Returned 0.7697712 (Improvement)\n",
        "--------------------------------------------------------------------------------------------------------------------\n",
        "#! Test F (Worst Case) (With Bad University)\n",
        "input_arr = [0, 0, 1, 0, 0,  0, 0]\n",
        "obj.mainTrain()\n",
        "print(\n",
        "    f\"Average Case Scenario Has A Probability Of {str(obj.predictChances(input_arr))}\")\n",
        "#! Returned 0.64155287 (Better??)\n",
        "--------------------------------------------------------------------------------------------------------------------\n",
        "#! Test G (Worst Case) (With Bad University) (With research)\n",
        "input_arr = [0, 0, 1, 0, 0,  1, 0]\n",
        "obj.mainTrain()\n",
        "print(\n",
        "    f\"Average Case Scenario Has A Probability Of {str(obj.predictChances(input_arr))}\")\n",
        "#! Returned 0.7250743 (Improvement)\n",
        "--------------------------------------------------------------------------------------------------------------------\n",
        "#! Test H (Average Case) (With Bad University)\n",
        "input_arr = [270, 60, 1, 3, 3,  0, 0]\n",
        "obj.mainTrain()\n",
        "print(\n",
        "    f\"Average Case Scenario Has A Probability Of {str(obj.predictChances(input_arr))}\")\n",
        "#! Returned 1.\n",
        "XXXXXXXXXXXXXXXXXXXXXXXXXXXXXXXXXXXXXXXXXXXXXXXXXXXXXXXXXXXXXXXXXXXXXXXXXXXXXXXXXXXXXXXXXXXXXXXXXXXXXXXXXXXXXXXXXXXX\n",
        "\n",
        "#! Model C (Best Model)\n",
        "====================================================================================================================\n",
        "self.nn.add(Dense(units=200, activation='relu'))\n",
        "self.nn.add(Dense(units=100, activation='relu'))\n",
        "self.nn.add(Dropout(rate=0.3))\n",
        "self.nn.add(Dense(units=50, activation='relu'))\n",
        "self.nn.add(Dense(units=25, activation='relu'))\n",
        "self.nn.add(Dense(units=12, activation='relu'))\n",
        "self.nn.add(Dense(units=6, activation='relu'))\n",
        "self.nn.add(Dropout(rate=0.6))\n",
        "self.nn.add(Dense(units=1, activation='sigmoid'))\n",
        "self.nn.compile(optimizer='adam', loss='mse')\n",
        "self.nn.fit(X_train, y_train, batch_size=60, epochs=40)\n",
        "====================================================================================================================\n",
        "#! Test A (Best Case)\n",
        "input_arr = [340, 120, 5, 5, 5,  10, 1]\n",
        "obj.mainTrain()\n",
        "print(\n",
        "    f\"Best Case Scenario Has A Probability Of {str(obj.predictChances(input_arr))}\")\n",
        "#! Returned 1.0 (PASSED)\n",
        "--------------------------------------------------------------------------------------------------------------------\n",
        "#! Test B (Worst Case) (With Research)\n",
        "input_arr = [0, 0, 5, 0, 0,  1, 0]\n",
        "obj.mainTrain()\n",
        "print(\n",
        "    f\"Worst Case Scenario Has A Probability Of {str(obj.predictChances(input_arr))}\")\n",
        "#! Returned 0.71924317 (Improvement)\n",
        "--------------------------------------------------------------------------------------------------------------------\n",
        "#! Test C (Average Case)\n",
        "input_arr = [270, 60, 3, 3, 3,  1, 0]\n",
        "obj.mainTrain()\n",
        "print(\n",
        "    f\"Average Case Scenario Has A Probability Of {str(obj.predictChances(input_arr))}\")\n",
        "#! Returned 1.0 (Unknown)\n",
        "--------------------------------------------------------------------------------------------------------------------\n",
        "#! Test D (Average Case) (No Research)\n",
        "input_arr = [270, 60, 3, 3, 3,  0, 0]\n",
        "obj.mainTrain()\n",
        "print(\n",
        "    f\"Average Case Scenario Has A Probability Of {str(obj.predictChances(input_arr))}\")\n",
        "#! Returned 1.0\n",
        "--------------------------------------------------------------------------------------------------------------------\n",
        "#! Test E (Worst Case)\n",
        "input_arr = [0, 0, 5, 0, 0,  0, 0]\n",
        "obj.mainTrain()\n",
        "print(\n",
        "    f\"Average Case Scenario Has A Probability Of {str(obj.predictChances(input_arr))}\")\n",
        "#! Returned 0.70957875 (Improvement)\n",
        "--------------------------------------------------------------------------------------------------------------------\n",
        "#! Test F (Worst Case) (With Bad University)\n",
        "input_arr = [0, 0, 1, 0, 0,  0, 0]\n",
        "obj.mainTrain()\n",
        "print(\n",
        "    f\"Average Case Scenario Has A Probability Of {str(obj.predictChances(input_arr))}\")\n",
        "#! Returned 0.64277405 (Better)\n",
        "--------------------------------------------------------------------------------------------------------------------\n",
        "#! Test G (Worst Case) (With Bad University) (With research)\n",
        "input_arr = [0, 0, 1, 0, 0,  1, 0]\n",
        "obj.mainTrain()\n",
        "print(\n",
        "    f\"Average Case Scenario Has A Probability Of {str(obj.predictChances(input_arr))}\")\n",
        "#! Returned 0.74086756 (Improvement??)\n",
        "--------------------------------------------------------------------------------------------------------------------\n",
        "#! Test H (Average Case) (With Bad University)\n",
        "input_arr = [270, 60, 1, 3, 3,  0, 0]\n",
        "obj.mainTrain()\n",
        "print(\n",
        "    f\"Average Case Scenario Has A Probability Of {str(obj.predictChances(input_arr))}\")\n",
        "#! Returned 1.\n",
        "XXXXXXXXXXXXXXXXXXXXXXXXXXXXXXXXXXXXXXXXXXXXXXXXXXXXXXXXXXXXXXXXXXXXXXXXXXXXXXXXXXXXXXXXXXXXXXXXXXXXXXXXXXXXXXXXXXXX\n",
        "\"\"\"\n",
        "```\n",
        "\n"
      ]
    },
    {
      "cell_type": "markdown",
      "metadata": {
        "id": "jOYQVTx4b90j"
      },
      "source": [
        "# (5) Data Post Processing\n",
        "This section deals with the post-processing of the final calculated data. It evaluates the performance of the data based on train_test_split. Now you might have noticed that this notebook does not have a train_test_split. That is due to the fact that when I was making this project my **NeuralEngine** class had a method called performanceEvaluation that uses the Sklearn library to split the X and y data into **X_train, X_test, y_train, y_test** accordingly. This was done to avoid the plotting of the data when the model is used for future predictions. The code for the performanceEvaluation method is given blow although I strongly suggest you look at the [code](https://github.com/codemasterady/Predicting-Your-Chance-Of-Admission-For-A-Masters-Degree/blob/main/models/neural_engine.py) in raw.\n",
        "\n",
        "\n",
        "```\n",
        "def performanceEvaluation(self):\n",
        "        X, y = self.__preprocess()\n",
        "        # Splitting the data into the training and the test set for model performance evaluation\n",
        "        X_train, X_test, y_train, y_test = train_test_split(\n",
        "            X, y, test_size=0.3)\n",
        "        # Defining the neural network\n",
        "        eval_nn = Sequential()\n",
        "        eval_nn.add(Dense(units=200, activation='relu'))\n",
        "        eval_nn.add(Dense(units=100, activation='relu'))\n",
        "        eval_nn.add(Dropout(rate=0.3))\n",
        "        eval_nn.add(Dense(units=50, activation='relu'))\n",
        "        eval_nn.add(Dense(units=25, activation='relu'))\n",
        "        eval_nn.add(Dense(units=12, activation='relu'))\n",
        "        eval_nn.add(Dense(units=6, activation='relu'))\n",
        "        eval_nn.add(Dropout(rate=0.6))\n",
        "        eval_nn.add(Dense(units=1, activation='sigmoid'))\n",
        "        eval_nn.compile(optimizer='adam', loss='mse')\n",
        "        eval_nn.fit(X_train, y_train, batch_size=60, epochs=40)\n",
        "        # Extracting the evaluated values\n",
        "        list_of_costs = []\n",
        "        y_pred = eval_nn.predict(X_test)\n",
        "        for i in range(0, 100):\n",
        "            cost = y_test[i] - y_pred[i]\n",
        "            # To ensure diff is always positive\n",
        "            cost = abs(cost)\n",
        "            list_of_costs.append(cost)\n",
        "        # Plotting the results\n",
        "        plt.plot(list_of_costs, 'r')\n",
        "        plt.xlabel(\"Index (i)\")\n",
        "        plt.ylabel(\"Cost [Predicted value - Actual value] (%)\")\n",
        "        plt.show()\n",
        "```\n",
        "\n"
      ]
    },
    {
      "cell_type": "markdown",
      "metadata": {
        "id": "qIyy9Pj9gSs3"
      },
      "source": [
        "## (5)(a) Splitting the data into the training & test set"
      ]
    },
    {
      "cell_type": "code",
      "metadata": {
        "id": "_VgrTMicfzOF"
      },
      "source": [
        "# Getting the X_test & y_test value\n",
        "_, X_test, _, y_test = train_test_split(\n",
        "            X, y, test_size=0.3)"
      ],
      "execution_count": 4,
      "outputs": []
    },
    {
      "cell_type": "markdown",
      "metadata": {
        "id": "Li_uTHW6ghBe"
      },
      "source": [
        "## (5)(b) Plotting the performance.\n",
        "The cell below evaluates the performance by getting the difference from the actual and the predicted and then plots the values in the graph, making it easier for us as humans to evaluate the performance. **Do note that for different runs, the performance varies**. Also, you can notice that the predictions were off by **18%**. This is important as later when making the GUI part of the project, we will get the output, add and subtract the variation, for special cases, ad get the average."
      ]
    },
    {
      "cell_type": "code",
      "metadata": {
        "colab": {
          "base_uri": "https://localhost:8080/",
          "height": 279
        },
        "id": "_C90gPrtcIdc",
        "outputId": "2bf624bb-a8cb-4eb4-f2ee-9c235dcc6c87"
      },
      "source": [
        "# The bottom code is inspired from performanceEvaluation.\n",
        "list_of_costs = []\n",
        "y_pred = nn.predict(X_test)\n",
        "for i in range(0, 100):\n",
        "    cost = y_test[i] - y_pred[i]\n",
        "    # To ensure diff is always positive\n",
        "    cost = abs(cost)\n",
        "    list_of_costs.append(cost)\n",
        "# Plotting the results\n",
        "plt.plot(list_of_costs, 'r')\n",
        "plt.xlabel(\"Index (i)\")\n",
        "plt.ylabel(\"Cost [Predicted value - Actual value] (%)\")\n",
        "plt.show()"
      ],
      "execution_count": 5,
      "outputs": [
        {
          "output_type": "display_data",
          "data": {
            "image/png": "[encoded data removed]",
            "text/plain": [
              "<Figure size 432x288 with 1 Axes>"
            ]
          },
          "metadata": {
            "tags": [],
            "needs_background": "light"
          }
        }
      ]
    },
    {
      "cell_type": "markdown",
      "metadata": {
        "id": "OEzCxRCxhs4s"
      },
      "source": [
        "# (6) The Graphical User Interface execution (Extras)\n",
        "This section is just an extra as it helps you dive into the scoop of how the data that is input is cleaned before being fed into the model. Not much is mentioned as this notebook only goes through the**machine learning model**."
      ]
    },
    {
      "cell_type": "code",
      "metadata": {
        "id": "wh89VrNOh0Lj"
      },
      "source": [
        "def execute():\n",
        "    # Getting the values\n",
        "    GRE = gre_entry.get()\n",
        "    TOEFL = toefl_entry.get()\n",
        "    UNIVERSITY_RATING = uni_rate_entry.get()\n",
        "    STATEMENT_OF_PURPOSE_RATING = sop_entry.get()\n",
        "    LETTER_OF_RECOMMENDATION_RATING = lor_entry.get()\n",
        "    GPA = gpa_entry.get()\n",
        "    RESEARCH_EXPERIENCE = r_e_entry.get()\n",
        "\n",
        "    # Cleaning all the inputs\n",
        "    GRE = int(GRE)\n",
        "    TOEFL = int(TOEFL)\n",
        "    UNIVERSITY_RATING = int(UNIVERSITY_RATING)\n",
        "    STATEMENT_OF_PURPOSE_RATING = int(STATEMENT_OF_PURPOSE_RATING)\n",
        "    LETTER_OF_RECOMMENDATION_RATING = int(LETTER_OF_RECOMMENDATION_RATING)\n",
        "    GPA = int(GPA)\n",
        "    RESEARCH_EXPERIENCE = int(RESEARCH_EXPERIENCE)\n",
        "    \n",
        "    # Deducing the final array\n",
        "    returning_list = [GRE, TOEFL, UNIVERSITY_RATING, STATEMENT_OF_PURPOSE_RATING, LETTER_OF_RECOMMENDATION_RATING, GPA, RESEARCH_EXPERIENCE]\n",
        "    \n",
        "    # Defining the neural network\n",
        "    # Initializing the neural engine object\n",
        "    engine = NeuralEngine()\n",
        "    # Getting the pred\n",
        "    engine.mainTrain()\n",
        "    chances_pred = engine.predictChances(returning_list)\n",
        "    # Initializing the final output\n",
        "    final_output = 0\n",
        "    # Exaluating the outliers\n",
        "    if chances_pred > 0.82:\n",
        "        lower_bound = chances_pred - 0.18\n",
        "        final_output = (chances_pred + lower_bound)/2\n",
        "    elif chances_pred < 0.18:\n",
        "        upper_bound = chances_pred + 0.18\n",
        "        final_output = (chances_pred + upper_bound)/2\n",
        "    else:\n",
        "        lower_bound = chances_pred - 0.18\n",
        "        upper_bound = chances_pred + 0.18\n",
        "        final_output = (upper_bound + lower_bound + chances_pred)/3\n",
        "    final_output = final_output - 0.60\n",
        "    # Computing the score\n",
        "    score = 0\n",
        "    if final_output<0.3:\n",
        "        score = final_output//3\n",
        "    else:\n",
        "        score = 10\n",
        "    print(f\"The Score Is {score}\\nThe final output is {final_output}\\nThe Predicted Probability {chances_pred}\")\n",
        "    # Executing the secondary GUI\n",
        "    secondaryGUI(score)"
      ],
      "execution_count": 6,
      "outputs": []
    },
    {
      "cell_type": "markdown",
      "metadata": {
        "id": "9v1Tj0rWixHs"
      },
      "source": [
        "# (7) Conclusion\n",
        "Despite this model not having a very good accuracy, I believe it has a very good model that can be used to predict the chances of your friends getting into a masters degree. If you have a better dataset than I did to train the model, then feel free to [download](https://github.com/codemasterady/Predicting-Your-Chance-Of-Admission-For-A-Masters-Degree/archive/main.zip) this algorithm and train your data based on this algorithm."
      ]
    }
  ]
}